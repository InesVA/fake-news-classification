{
 "cells": [
  {
   "cell_type": "markdown",
   "metadata": {},
   "source": [
    "# Fake news detection\n",
    "\n",
    "I tried to build a function that uses a ML model to give a confidence score between 1 and 0 (is this article reliable or not) to any article found on the internet.\n"
   ]
  },
  {
   "cell_type": "markdown",
   "metadata": {},
   "source": [
    "## 1. Let's set up our environment"
   ]
  },
  {
   "cell_type": "code",
   "execution_count": 130,
   "metadata": {
    "ExecuteTime": {
     "end_time": "2018-10-22T18:46:00.016915Z",
     "start_time": "2018-10-22T18:46:00.010116Z"
    }
   },
   "outputs": [],
   "source": [
    "# Ignore warning messages\n",
    "def warn(*args, **kwargs):\n",
    "    pass\n",
    "import warnings\n",
    "warnings.warn = warn\n",
    "\n",
    "# Handle table-like data and matrices\n",
    "import numpy as np\n",
    "import pandas as pd\n",
    "\n",
    "# Computations\n",
    "import itertools\n",
    "\n",
    "# Modelling Algorithms\n",
    "from sklearn.naive_bayes import MultinomialNB\n",
    "from sklearn.linear_model import LogisticRegression\n",
    "from sklearn.linear_model import PassiveAggressiveClassifier\n",
    "\n",
    "# Modelling Helpers\n",
    "from sklearn.model_selection import train_test_split\n",
    "from sklearn.feature_extraction.text import TfidfVectorizer\n",
    "from sklearn.feature_extraction.text import CountVectorizer\n",
    "from sklearn import metrics\n",
    "\n",
    "# Visualization\n",
    "import matplotlib.pyplot as plt\n",
    "\n",
    "# Scrapping \n",
    "from newspaper import Article"
   ]
  },
  {
   "cell_type": "code",
   "execution_count": 3,
   "metadata": {},
   "outputs": [
    {
     "name": "stdout",
     "output_type": "stream",
     "text": [
      "<class 'pandas.core.frame.DataFrame'>\n",
      "RangeIndex: 20800 entries, 0 to 20799\n",
      "Data columns (total 6 columns):\n",
      "id        20800 non-null int64\n",
      "title     20800 non-null object\n",
      "author    20800 non-null object\n",
      "text      20800 non-null object\n",
      "label     20800 non-null int64\n",
      "total     20800 non-null object\n",
      "dtypes: int64(2), object(4)\n",
      "memory usage: 975.1+ KB\n"
     ]
    },
    {
     "data": {
      "text/html": [
       "<div>\n",
       "<style scoped>\n",
       "    .dataframe tbody tr th:only-of-type {\n",
       "        vertical-align: middle;\n",
       "    }\n",
       "\n",
       "    .dataframe tbody tr th {\n",
       "        vertical-align: top;\n",
       "    }\n",
       "\n",
       "    .dataframe thead th {\n",
       "        text-align: right;\n",
       "    }\n",
       "</style>\n",
       "<table border=\"1\" class=\"dataframe\">\n",
       "  <thead>\n",
       "    <tr style=\"text-align: right;\">\n",
       "      <th></th>\n",
       "      <th>id</th>\n",
       "      <th>title</th>\n",
       "      <th>author</th>\n",
       "      <th>text</th>\n",
       "      <th>label</th>\n",
       "      <th>total</th>\n",
       "    </tr>\n",
       "  </thead>\n",
       "  <tbody>\n",
       "    <tr>\n",
       "      <th>0</th>\n",
       "      <td>0</td>\n",
       "      <td>House Dem Aide: We Didn’t Even See Comey’s Let...</td>\n",
       "      <td>Darrell Lucus</td>\n",
       "      <td>House Dem Aide: We Didn’t Even See Comey’s Let...</td>\n",
       "      <td>1</td>\n",
       "      <td>House Dem Aide: We Didn’t Even See Comey’s Let...</td>\n",
       "    </tr>\n",
       "    <tr>\n",
       "      <th>1</th>\n",
       "      <td>1</td>\n",
       "      <td>FLYNN: Hillary Clinton, Big Woman on Campus - ...</td>\n",
       "      <td>Daniel J. Flynn</td>\n",
       "      <td>Ever get the feeling your life circles the rou...</td>\n",
       "      <td>0</td>\n",
       "      <td>FLYNN: Hillary Clinton, Big Woman on Campus - ...</td>\n",
       "    </tr>\n",
       "    <tr>\n",
       "      <th>2</th>\n",
       "      <td>2</td>\n",
       "      <td>Why the Truth Might Get You Fired</td>\n",
       "      <td>Consortiumnews.com</td>\n",
       "      <td>Why the Truth Might Get You Fired October 29, ...</td>\n",
       "      <td>1</td>\n",
       "      <td>Why the Truth Might Get You Fired Consortiumne...</td>\n",
       "    </tr>\n",
       "    <tr>\n",
       "      <th>3</th>\n",
       "      <td>3</td>\n",
       "      <td>15 Civilians Killed In Single US Airstrike Hav...</td>\n",
       "      <td>Jessica Purkiss</td>\n",
       "      <td>Videos 15 Civilians Killed In Single US Airstr...</td>\n",
       "      <td>1</td>\n",
       "      <td>15 Civilians Killed In Single US Airstrike Hav...</td>\n",
       "    </tr>\n",
       "    <tr>\n",
       "      <th>4</th>\n",
       "      <td>4</td>\n",
       "      <td>Iranian woman jailed for fictional unpublished...</td>\n",
       "      <td>Howard Portnoy</td>\n",
       "      <td>Print \\nAn Iranian woman has been sentenced to...</td>\n",
       "      <td>1</td>\n",
       "      <td>Iranian woman jailed for fictional unpublished...</td>\n",
       "    </tr>\n",
       "  </tbody>\n",
       "</table>\n",
       "</div>"
      ],
      "text/plain": [
       "   id                                              title              author  \\\n",
       "0   0  House Dem Aide: We Didn’t Even See Comey’s Let...       Darrell Lucus   \n",
       "1   1  FLYNN: Hillary Clinton, Big Woman on Campus - ...     Daniel J. Flynn   \n",
       "2   2                  Why the Truth Might Get You Fired  Consortiumnews.com   \n",
       "3   3  15 Civilians Killed In Single US Airstrike Hav...     Jessica Purkiss   \n",
       "4   4  Iranian woman jailed for fictional unpublished...      Howard Portnoy   \n",
       "\n",
       "                                                text  label  \\\n",
       "0  House Dem Aide: We Didn’t Even See Comey’s Let...      1   \n",
       "1  Ever get the feeling your life circles the rou...      0   \n",
       "2  Why the Truth Might Get You Fired October 29, ...      1   \n",
       "3  Videos 15 Civilians Killed In Single US Airstr...      1   \n",
       "4  Print \\nAn Iranian woman has been sentenced to...      1   \n",
       "\n",
       "                                               total  \n",
       "0  House Dem Aide: We Didn’t Even See Comey’s Let...  \n",
       "1  FLYNN: Hillary Clinton, Big Woman on Campus - ...  \n",
       "2  Why the Truth Might Get You Fired Consortiumne...  \n",
       "3  15 Civilians Killed In Single US Airstrike Hav...  \n",
       "4  Iranian woman jailed for fictional unpublished...  "
      ]
     },
     "execution_count": 3,
     "metadata": {},
     "output_type": "execute_result"
    }
   ],
   "source": [
    "# Let's import and prep the datasets\n",
    "\n",
    "# Import the datasets \n",
    "train=pd.read_csv('../train.csv')\n",
    "test=pd.read_csv('../test.csv')\n",
    "\n",
    "# Handle missing values\n",
    "test=test.fillna(' ')\n",
    "train=train.fillna(' ')\n",
    "\n",
    "# Create a column with all the data available\n",
    "test['total']=test['title']+' '+test['author']+' '+test['text']\n",
    "train['total']=train['title']+' '+train['author']+' '+train['text']\n",
    "\n",
    "# Have a glance at our training set\n",
    "train.info()\n",
    "train.head()"
   ]
  },
  {
   "cell_type": "markdown",
   "metadata": {},
   "source": [
    "I decided to train my model on a concatenation of the title, the author and the main text, because I thought adding more words to the input might increase the reliablity of my model."
   ]
  },
  {
   "cell_type": "code",
   "execution_count": 6,
   "metadata": {},
   "outputs": [],
   "source": [
    "# Dividing our training set into a sub-training and a sub-testing set to assess our results\n",
    "X_train, X_test, y_train, y_test = train_test_split(train['total'], train.label, test_size=0.20, random_state=0)"
   ]
  },
  {
   "cell_type": "markdown",
   "metadata": {},
   "source": [
    "I decided to divide our training sets in two in order to be able to assess the accuracy of our results. Indeed, the \"expected\" result is not given in the Kaggle test set."
   ]
  },
  {
   "cell_type": "markdown",
   "metadata": {},
   "source": [
    "The metrics I will use in order to assess my models are the following:\n",
    "- accuracy : number of times I got the right figure (when classifying)\n",
    "- number of false negative (I classified as a real news when it was actually a fake news).\n",
    "\n",
    "For this second metrics, I assume I want to minimize this rather than the number of false positive, because I really do not want to push fake news. This is of course a biased point of view, and we could adopt the contrary opinion."
   ]
  },
  {
   "cell_type": "markdown",
   "metadata": {},
   "source": [
    "## 2. Let's build vectorizer classifiers"
   ]
  },
  {
   "cell_type": "markdown",
   "metadata": {},
   "source": [
    "Since we are trying to classify text strings, we first want to vectorize our data. I will use two different vectorizers and compare them\n",
    "- The Count Vectorizer counts the number of appearances of a word in the text string\n",
    "- The Tf-IDF Vectorizer is the frequency of appareance of a word * the inversed frequency of appearance in the whole corpus\n",
    "\n",
    "I will start with ngram_range = (1,2), then try to refine this parameter."
   ]
  },
  {
   "cell_type": "markdown",
   "metadata": {},
   "source": [
    "### 1. Count Vectorizer"
   ]
  },
  {
   "cell_type": "code",
   "execution_count": 25,
   "metadata": {},
   "outputs": [],
   "source": [
    "# Initialize the `count_vectorizer` \n",
    "count_vectorizer = CountVectorizer(ngram_range=(1, 2), stop_words='english') \n",
    "# Fit and transform the training data.\n",
    "count_train = count_vectorizer.fit_transform(X_train)\n",
    "# Transform the test set \n",
    "count_test = count_vectorizer.transform(X_test)"
   ]
  },
  {
   "cell_type": "markdown",
   "metadata": {},
   "source": [
    "### 2. Tf-IDF Vectorizer"
   ]
  },
  {
   "cell_type": "code",
   "execution_count": 74,
   "metadata": {},
   "outputs": [],
   "source": [
    "#Initialize the `tfidf_vectorizer` \n",
    "tfidf_vectorizer = TfidfVectorizer(stop_words='english', ngram_range=(1, 2))\n",
    "#Fit and transform the training data \n",
    "tfidf_train = tfidf_vectorizer.fit_transform(X_train)\n",
    "#Transform the test set \n",
    "tfidf_test = tfidf_vectorizer.transform(X_test)"
   ]
  },
  {
   "cell_type": "markdown",
   "metadata": {},
   "source": [
    "## 3. Let's try different models"
   ]
  },
  {
   "cell_type": "markdown",
   "metadata": {},
   "source": [
    "### 1. Multinomial Naive Bayes"
   ]
  },
  {
   "cell_type": "markdown",
   "metadata": {},
   "source": [
    "I will start by trying a Multinomial Naive Bayes, a very common and simple classifier."
   ]
  },
  {
   "cell_type": "markdown",
   "metadata": {},
   "source": [
    "#### 1. Multinomial NB with Count Vectorizer"
   ]
  },
  {
   "cell_type": "code",
   "execution_count": 38,
   "metadata": {},
   "outputs": [
    {
     "name": "stdout",
     "output_type": "stream",
     "text": [
      "0.942548076923077\n"
     ]
    }
   ],
   "source": [
    "# Let's run the model and get its accuracy score\n",
    "\n",
    "nb_classifier = MultinomialNB(alpha = 0.1)\n",
    "nb_classifier.fit(count_train, y_train)\n",
    "pred_nb_count = nb_classifier.predict(count_test)\n",
    "acc_nb_count = metrics.accuracy_score(y_test, pred_nb_count)\n",
    "print(acc_nb_count)"
   ]
  },
  {
   "cell_type": "code",
   "execution_count": 65,
   "metadata": {},
   "outputs": [
    {
     "name": "stdout",
     "output_type": "stream",
     "text": [
      "Alpha: 0.00 Score: 0.91106\n",
      "Alpha: 0.05 Score: 0.94183\n",
      "Alpha: 0.10 Score: 0.94255\n",
      "Alpha: 0.15 Score: 0.94279\n",
      "Alpha: 0.20 Score: 0.94231\n",
      "Alpha: 0.25 Score: 0.94111\n",
      "Alpha: 0.30 Score: 0.93990\n",
      "Alpha: 0.35 Score: 0.93822\n",
      "Alpha: 0.40 Score: 0.93750\n",
      "Alpha: 0.45 Score: 0.93630\n",
      "Alpha: 0.50 Score: 0.93510\n",
      "Alpha: 0.55 Score: 0.93486\n",
      "Alpha: 0.60 Score: 0.93341\n",
      "Alpha: 0.65 Score: 0.93149\n",
      "Alpha: 0.70 Score: 0.93029\n",
      "Alpha: 0.75 Score: 0.92909\n",
      "Alpha: 0.80 Score: 0.92788\n",
      "Alpha: 0.85 Score: 0.92644\n",
      "Alpha: 0.90 Score: 0.92428\n",
      "Alpha: 0.95 Score: 0.92308\n"
     ]
    }
   ],
   "source": [
    "# Let's tune our parameter alpha\n",
    "\n",
    "for alpha in np.arange(0,1,.05):\n",
    "    nb_classifier_tune = MultinomialNB(alpha=alpha)\n",
    "    nb_classifier_tune.fit(count_train, y_train)\n",
    "    pred_tune = nb_classifier_tune.predict(count_test)\n",
    "    score = metrics.accuracy_score(y_test, pred_tune)\n",
    "    print(\"Alpha: {:.2f} Score: {:.5f}\".format(alpha, score))"
   ]
  },
  {
   "cell_type": "markdown",
   "metadata": {},
   "source": [
    "The best score is obtained for alpha = 0.15, and is equal to 0.94279. This is already quite good! I will now quickly check that using n_gram = (1,2) gives better results than using n_gram = (1,1) :"
   ]
  },
  {
   "cell_type": "code",
   "execution_count": 64,
   "metadata": {},
   "outputs": [
    {
     "name": "stdout",
     "output_type": "stream",
     "text": [
      "Alpha: 0.00 Score: 0.90865\n",
      "Alpha: 0.05 Score: 0.91563\n",
      "Alpha: 0.10 Score: 0.91490\n",
      "Alpha: 0.15 Score: 0.91322\n",
      "Alpha: 0.20 Score: 0.91274\n",
      "Alpha: 0.25 Score: 0.91226\n",
      "Alpha: 0.30 Score: 0.91082\n",
      "Alpha: 0.35 Score: 0.91034\n",
      "Alpha: 0.40 Score: 0.90986\n",
      "Alpha: 0.45 Score: 0.90865\n",
      "Alpha: 0.50 Score: 0.90721\n",
      "Alpha: 0.55 Score: 0.90673\n",
      "Alpha: 0.60 Score: 0.90697\n",
      "Alpha: 0.65 Score: 0.90721\n",
      "Alpha: 0.70 Score: 0.90721\n",
      "Alpha: 0.75 Score: 0.90649\n",
      "Alpha: 0.80 Score: 0.90649\n",
      "Alpha: 0.85 Score: 0.90625\n",
      "Alpha: 0.90 Score: 0.90625\n",
      "Alpha: 0.95 Score: 0.90577\n"
     ]
    }
   ],
   "source": [
    "# Initialize the `count_vectorizer` \n",
    "count_vectorizer_singlewords = CountVectorizer(ngram_range=(1, 1), stop_words='english') \n",
    "# Fit and transform the training data.\n",
    "count_train_singlewords = count_vectorizer_singlewords.fit_transform(X_train)\n",
    "# Transform the test set \n",
    "count_test_singlewords = count_vectorizer_singlewords.transform(X_test)\n",
    "\n",
    "for alpha in np.arange(0,1,.05):\n",
    "    nb_classifier_tune = MultinomialNB(alpha=alpha)\n",
    "    nb_classifier_tune.fit(count_train_singlewords, y_train)\n",
    "    pred_tune = nb_classifier_tune.predict(count_test_singlewords)\n",
    "    score = metrics.accuracy_score(y_test, pred_tune)\n",
    "    print(\"Alpha: {:.2f} Score: {:.5f}\".format(alpha, score))\n"
   ]
  },
  {
   "cell_type": "markdown",
   "metadata": {},
   "source": [
    "For each alpha, the score is lower when we use (1,1) as a parameter for ngram_range instead of (1,2).   \n",
    "Indeed, it seems logical that considering two-words phrases adds information to our dataset and therefore helps better train our model.  \n",
    "I will now always use ngram_range = (1,2)   "
   ]
  },
  {
   "cell_type": "code",
   "execution_count": 31,
   "metadata": {},
   "outputs": [
    {
     "data": {
      "image/png": "[encoded data removed]",
      "text/plain": [
       "<Figure size 432x288 with 2 Axes>"
      ]
     },
     "metadata": {
      "needs_background": "light"
     },
     "output_type": "display_data"
    }
   ],
   "source": [
    "# Let's re-run our fine-tuned model and plot the confusion matrix\n",
    "nb_classifier = MultinomialNB(alpha = 0.15)\n",
    "nb_classifier.fit(count_train, y_train)\n",
    "pred_nb_count = nb_classifier.predict(count_test)\n",
    "cm = metrics.confusion_matrix(y_test, pred_nb_count, labels=[0,1])\n",
    "\n",
    "# Creating a function that outputs a confusion matrix\n",
    "def plot_confusion_matrix(cm, classes,\n",
    "                          normalize=False,\n",
    "                          title='Confusion matrix',\n",
    "                          cmap=plt.cm.Blues):\n",
    "    \n",
    "    plt.imshow(cm, interpolation='nearest', cmap=cmap)\n",
    "    plt.title(title)\n",
    "    plt.colorbar()\n",
    "    tick_marks = np.arange(len(classes))\n",
    "    plt.xticks(tick_marks, classes, rotation=45)\n",
    "    plt.yticks(tick_marks, classes)\n",
    "    thresh = cm.max() / 2.\n",
    "    for i, j in itertools.product(range(cm.shape[0]), range(cm.shape[1])):\n",
    "        plt.text(j, i, cm[i, j],\n",
    "                 horizontalalignment=\"center\",\n",
    "                 color=\"white\" if cm[i, j] > thresh else \"black\")\n",
    "\n",
    "    plt.tight_layout()\n",
    "    plt.ylabel('True label')\n",
    "    plt.xlabel('Predicted label')\n",
    "    \n",
    "    \n",
    "plot_confusion_matrix(cm, classes=['TRUE','FAKE'], title ='Confusion matrix for a MultinomialNB with Count Vectorizer')"
   ]
  },
  {
   "cell_type": "markdown",
   "metadata": {},
   "source": [
    "Although our model has a general accuracy of 94,3 %, which is not bad, it does not really score well in view of our second metrics, ie the number of false negative. Indeed, 223 fake news are classified as true news with this model, which is not satisfying.   \n",
    "I will try to use the Tf-IDF vectorizer on this same model to see if it performs better. "
   ]
  },
  {
   "cell_type": "markdown",
   "metadata": {},
   "source": [
    "#### 2. MulitnomialNB with Td-IDF Vectorizer"
   ]
  },
  {
   "cell_type": "code",
   "execution_count": 56,
   "metadata": {},
   "outputs": [
    {
     "name": "stdout",
     "output_type": "stream",
     "text": [
      "0.926923076923077\n"
     ]
    }
   ],
   "source": [
    "# Let's run the model and get an accuracy score.\n",
    "\n",
    "nb_classifier = MultinomialNB(alpha = 0.1)\n",
    "nb_classifier.fit(tfidf_train, y_train)\n",
    "pred_nb_tfidf = nb_classifier.predict(tfidf_test)\n",
    "acc_nb_tfidf = metrics.accuracy_score(y_test, pred_nb_tfidf)\n",
    "print(acc_nb_tfidf)"
   ]
  },
  {
   "cell_type": "code",
   "execution_count": 75,
   "metadata": {
    "scrolled": true
   },
   "outputs": [
    {
     "name": "stdout",
     "output_type": "stream",
     "text": [
      "Alpha: 0.00  Score: 0.90649\n",
      "Alpha: 0.01  Score: 0.94375\n",
      "Alpha: 0.02  Score: 0.94375\n",
      "Alpha: 0.03  Score: 0.94159\n",
      "Alpha: 0.04  Score: 0.93966\n",
      "Alpha: 0.05  Score: 0.93822\n",
      "Alpha: 0.06  Score: 0.93462\n",
      "Alpha: 0.07  Score: 0.93317\n",
      "Alpha: 0.08  Score: 0.93005\n",
      "Alpha: 0.09  Score: 0.92861\n"
     ]
    }
   ],
   "source": [
    "# Let's refine parameter alpha\n",
    "\n",
    "for alpha in np.arange(0,0.1,.01):\n",
    "    nb_classifier_tune = MultinomialNB(alpha=alpha)\n",
    "    nb_classifier_tune.fit(tfidf_train, y_train)\n",
    "    pred_tune = nb_classifier_tune.predict(tfidf_test)\n",
    "    score = metrics.accuracy_score(y_test, pred_tune)\n",
    "    print(\"Alpha: {:.2f}  Score: {:.5f}\".format(alpha, score))"
   ]
  },
  {
   "cell_type": "code",
   "execution_count": 77,
   "metadata": {},
   "outputs": [
    {
     "data": {
      "image/png": "[encoded data removed]",
      "text/plain": [
       "<Figure size 432x288 with 2 Axes>"
      ]
     },
     "metadata": {
      "needs_background": "light"
     },
     "output_type": "display_data"
    }
   ],
   "source": [
    "# Let's run the optimized model and check the confusion matrix\n",
    "nb_classifier = MultinomialNB(alpha = 0.01)\n",
    "nb_classifier.fit(tfidf_train, y_train)\n",
    "pred_nb_tfidf = nb_classifier.predict(tfidf_test)\n",
    "cm2 = metrics.confusion_matrix(y_test, pred_nb_tfidf, labels=[0,1])\n",
    "plot_confusion_matrix(cm2, classes=['TRUE','FAKE'], title ='Confusion matrix for a MultinomialNB with Tf-IDF')"
   ]
  },
  {
   "cell_type": "markdown",
   "metadata": {},
   "source": [
    "The confusion matrix confirms that this new model is slightly better (and its accuracy score is 94,4 %).  \n",
    "However, too many fake news are still labeled as true news. Let's try another model."
   ]
  },
  {
   "cell_type": "markdown",
   "metadata": {},
   "source": [
    "### 2. Passive Agressive Classifier"
   ]
  },
  {
   "cell_type": "markdown",
   "metadata": {},
   "source": [
    "#### 1. With Count Vectorizer"
   ]
  },
  {
   "cell_type": "code",
   "execution_count": 98,
   "metadata": {},
   "outputs": [
    {
     "name": "stdout",
     "output_type": "stream",
     "text": [
      "0.9670673076923076\n"
     ]
    },
    {
     "data": {
      "image/png": "[encoded data removed]",
      "text/plain": [
       "<Figure size 432x288 with 2 Axes>"
      ]
     },
     "metadata": {
      "needs_background": "light"
     },
     "output_type": "display_data"
    }
   ],
   "source": [
    "linear_classifier = PassiveAggressiveClassifier(n_iter=10)\n",
    "linear_classifier.fit(count_train, y_train)\n",
    "pred_linear_count = linear_classifier.predict(count_test)\n",
    "acc_linear_count = metrics.accuracy_score(y_test, pred_linear_count)\n",
    "print(acc_linear_count)\n",
    "cm6 = metrics.confusion_matrix(y_test, pred_linear_count, labels=[0,1])\n",
    "plot_confusion_matrix(cm6, classes=['TRUE','FAKE'], title ='Confusion matrix for a PA Classifier with Count Vectorizer')"
   ]
  },
  {
   "cell_type": "markdown",
   "metadata": {},
   "source": [
    "We get much better results than with the MultinomialNB model, both in terms of accuracy and in terms of false negative. Only 57 fake news were labeled as true news this time.   \n",
    "Let's try with the Tf-IDF method."
   ]
  },
  {
   "cell_type": "markdown",
   "metadata": {},
   "source": [
    "#### 2. With Tf-IDF"
   ]
  },
  {
   "cell_type": "code",
   "execution_count": 97,
   "metadata": {},
   "outputs": [
    {
     "name": "stdout",
     "output_type": "stream",
     "text": [
      "0.9795673076923077\n"
     ]
    },
    {
     "data": {
      "image/png": "[encoded data removed]",
      "text/plain": [
       "<Figure size 432x288 with 2 Axes>"
      ]
     },
     "metadata": {
      "needs_background": "light"
     },
     "output_type": "display_data"
    }
   ],
   "source": [
    "linear_classifier = PassiveAggressiveClassifier(n_iter=10)\n",
    "linear_classifier.fit(tfidf_train, y_train)\n",
    "pred_linear_tfidf = linear_classifier.predict(tfidf_test)\n",
    "acc_linear_tfidf = metrics.accuracy_score(y_test, pred_linear_tfidf)\n",
    "print(acc_linear_tfidf)\n",
    "cm5 = metrics.confusion_matrix(y_test, pred_linear_tfidf, labels=[0,1])\n",
    "plot_confusion_matrix(cm5, classes=['TRUE','FAKE'], title ='Confusion matrix for a PA Classifier with Tf-IDF')"
   ]
  },
  {
   "cell_type": "markdown",
   "metadata": {},
   "source": [
    "Although we observe more false negative, the overall accuracy is much better, so so far it is our best model.  \n",
    "Let's try a final model before making a choice."
   ]
  },
  {
   "cell_type": "markdown",
   "metadata": {},
   "source": [
    "### 3. Logistic Regression"
   ]
  },
  {
   "cell_type": "markdown",
   "metadata": {},
   "source": [
    "Let's try to use a logistic regression as a classifier for this dataset."
   ]
  },
  {
   "cell_type": "markdown",
   "metadata": {},
   "source": [
    "#### 1. With Tf-IDF"
   ]
  },
  {
   "cell_type": "code",
   "execution_count": 96,
   "metadata": {},
   "outputs": [
    {
     "name": "stdout",
     "output_type": "stream",
     "text": [
      "0.9807692307692307\n"
     ]
    },
    {
     "data": {
      "image/png": "[encoded data removed]",
      "text/plain": [
       "<Figure size 432x288 with 2 Axes>"
      ]
     },
     "metadata": {
      "needs_background": "light"
     },
     "output_type": "display_data"
    }
   ],
   "source": [
    "logreg = LogisticRegression(C=1e5)\n",
    "logreg.fit(tfidf_train, y_train)\n",
    "pred_logreg_tfidf = logreg.predict(tfidf_test)\n",
    "pred_logreg_tfidf_proba = logreg.predict_proba(tfidf_test)[:,1]\n",
    "acc_logreg_tfidf = metrics.accuracy_score(y_test,pred_logreg_tfidf)\n",
    "print(acc_logreg_tfidf)\n",
    "cm4 = metrics.confusion_matrix(y_test, pred_logreg_tfidf, labels=[0,1])\n",
    "plot_confusion_matrix(cm4, classes=['TRUE','FAKE'], title ='Confusion matrix for a Logistic Regression with Tf-IDF')"
   ]
  },
  {
   "cell_type": "markdown",
   "metadata": {},
   "source": [
    "This model has a very high accuracy score, so we might consider keeping it as our final model.  \n",
    "But let's first check what we would obtain with Count Vectorizer"
   ]
  },
  {
   "cell_type": "markdown",
   "metadata": {},
   "source": [
    "#### 2. With Count Vectorizer"
   ]
  },
  {
   "cell_type": "code",
   "execution_count": 95,
   "metadata": {},
   "outputs": [
    {
     "name": "stdout",
     "output_type": "stream",
     "text": [
      "0.9769230769230769\n"
     ]
    },
    {
     "data": {
      "image/png": "[encoded data removed]",
      "text/plain": [
       "<Figure size 432x288 with 2 Axes>"
      ]
     },
     "metadata": {
      "needs_background": "light"
     },
     "output_type": "display_data"
    }
   ],
   "source": [
    "logreg = LogisticRegression(C=1e5)\n",
    "logreg.fit(count_train, y_train)\n",
    "pred_logreg_count = logreg.predict(count_test)\n",
    "acc_logreg_count = metrics.accuracy_score(y_test,pred_logreg_count)\n",
    "print(acc_logreg_count)\n",
    "cm3 = metrics.confusion_matrix(y_test, pred_logreg_count, labels=[0,1])\n",
    "plot_confusion_matrix(cm3, classes=['TRUE','FAKE'], title ='Confusion matrix for a Logistic Regression with Count Vectorizer')"
   ]
  },
  {
   "cell_type": "markdown",
   "metadata": {},
   "source": [
    "It's even better! This is our favorite model so far. Indeed, even though the accuracy score is a bit lower, we have less fake news labeled as true news. Therefore, I choose this model because it seems to maximize the accuracy while minimizing the false negative rate. "
   ]
  },
  {
   "cell_type": "markdown",
   "metadata": {},
   "source": [
    "## 4. Confidence score"
   ]
  },
  {
   "cell_type": "markdown",
   "metadata": {},
   "source": [
    "I now want to be able to give a confidence score between 0 and 1 to estimate whether an article is a fake news or not."
   ]
  },
  {
   "cell_type": "markdown",
   "metadata": {},
   "source": [
    "#### 1. I first create a function that gives the confidence score for any article in the test set"
   ]
  },
  {
   "cell_type": "code",
   "execution_count": 107,
   "metadata": {},
   "outputs": [],
   "source": [
    "# The input of this function is the string that is in the total column of the test set (concat of title, authors, text)\n",
    "\n",
    "def confidence_score_from_dataset(text_total_article):\n",
    "    \n",
    "    count_test_article = count_vectorizer.transform(text_total_article)\n",
    "    pred_logreg_count_article = logreg.predict(count_test_article)\n",
    "    pred_logreg_count_proba_article = logreg.predict_proba(count_test_article)[:,1]\n",
    "    print(pred_logreg_count_proba_article)"
   ]
  },
  {
   "cell_type": "code",
   "execution_count": 108,
   "metadata": {},
   "outputs": [
    {
     "name": "stdout",
     "output_type": "stream",
     "text": [
      "5500    Solar Storm Alert No Author October 27, 2016 S...\n",
      "Name: total, dtype: object\n",
      "[0.99999952]\n",
      "Article 5500 has a very high probability of being a fake news\n",
      "20386    Bob Dylan’s Nobel Prize: A Podcast Discussion ...\n",
      "Name: total, dtype: object\n",
      "[0.00014664]\n",
      "Article 20386 has a very low probability of being a fake news\n"
     ]
    }
   ],
   "source": [
    "# Let's try my function on articles from the test set\n",
    "text_total_article_1 = X_test[2:3]\n",
    "print(text_total_article_1)\n",
    "confidence_score_from_dataset(text_total_article_1)\n",
    "print('Article 5500 has a very high probability of being a fake news')\n",
    "\n",
    "text_total_article_2 = X_test[0:1]\n",
    "print(text_total_article_2)\n",
    "confidence_score_from_dataset(text_total_article_2)\n",
    "print('Article 20386 has a very low probability of being a fake news')"
   ]
  },
  {
   "cell_type": "markdown",
   "metadata": {},
   "source": [
    "#### 2. I now create a function that gives the confidence score for any article of the internet"
   ]
  },
  {
   "cell_type": "code",
   "execution_count": 109,
   "metadata": {},
   "outputs": [],
   "source": [
    "def give_score(link):\n",
    "    article = Article(link)\n",
    "    article.download()\n",
    "    article.parse()\n",
    "    authors = article.authors\n",
    "    text = article.text\n",
    "    title = article.title\n",
    "    total = title + ' ' + str(authors) + ' ' + str(text)\n",
    "    total_array = [total]\n",
    "    confidence_score_from_dataset(total_array)\n",
    "    "
   ]
  },
  {
   "cell_type": "code",
   "execution_count": 129,
   "metadata": {},
   "outputs": [
    {
     "name": "stdout",
     "output_type": "stream",
     "text": [
      "[0.92686628]\n",
      "[0.95043256]\n",
      "[2.48103681e-05]\n"
     ]
    }
   ],
   "source": [
    "# Let's now test my function\n",
    "link_nbc ='https://www.nbcnews.com/politics/elections/democrats-won-house-popular-vote-largest-midterm-margin-watergate-n938996?cid=par-nbc_20181121'\n",
    "link_bbc = 'https://www.bbc.com/news/world-middle-east-46288510'\n",
    "link_bbc_Trump  = 'https://www.bbc.com/news/world-us-canada-46294734'\n",
    "give_score(link_nbc)\n",
    "give_score(link_bbc)\n",
    "give_score(link_bbc_Trump)\n"
   ]
  },
  {
   "cell_type": "markdown",
   "metadata": {},
   "source": [
    "These final results show that we need to be careful with our predictions.  \n",
    "Indeed, although the first two articles passed the test, and righly so, the third article failed even though it was a real article. It is therefore a \" false positive\".  \n",
    "In this project, I chose to favor minimizing false negative instead of minimizing false positives, which might be one of the reason we observe this.  \n",
    "Another reason could be that our model is learning that some words are associated with a high probability of being a fake news ; Trump might be one of these words..."
   ]
  }
 ],
 "metadata": {
  "kernelspec": {
   "display_name": "Python 3",
   "language": "python",
   "name": "python3"
  },
  "language_info": {
   "codemirror_mode": {
    "name": "ipython",
    "version": 3
   },
   "file_extension": ".py",
   "mimetype": "text/x-python",
   "name": "python",
   "nbconvert_exporter": "python",
   "pygments_lexer": "ipython3",
   "version": "3.7.0"
  },
  "toc": {
   "nav_menu": {},
   "number_sections": true,
   "sideBar": true,
   "skip_h1_title": false,
   "toc_cell": false,
   "toc_position": {},
   "toc_section_display": "block",
   "toc_window_display": false
  }
 },
 "nbformat": 4,
 "nbformat_minor": 2
}
